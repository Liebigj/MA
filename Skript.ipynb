{
 "cells": [
  {
   "cell_type": "markdown",
   "metadata": {},
   "source": [
    "## Imports"
   ]
  },
  {
   "cell_type": "code",
   "execution_count": null,
   "metadata": {},
   "outputs": [],
   "source": [
    "# pip install sklearn\n",
    "# pip install localreg\n",
    "# pip install tensorflow\n",
    "# pip install scipy"
   ]
  },
  {
   "cell_type": "code",
   "execution_count": 1,
   "metadata": {},
   "outputs": [],
   "source": [
    "from sklearn.decomposition import PCA\n",
    "from sklearn.preprocessing import Normalizer as no\n",
    "from sklearn.preprocessing import normalize\n",
    "import math\n",
    "import pandas as pd\n",
    "from localreg import *\n",
    "from sklearn.neighbors import KernelDensity as dens\n",
    "import matplotlib.pyplot as plt\n",
    "import matplotlib as mpl\n",
    "import numpy as np\n",
    "from tensorflow.keras.datasets import fashion_mnist\n",
    "import random\n",
    "from scipy.stats import norm\n",
    "from sklearn.utils import shuffle\n",
    "from tensorflow.keras.utils import to_categorical\n",
    "from sklearn.model_selection import train_test_split\n",
    "from tensorflow.keras.preprocessing.image import img_to_array\n",
    "from sklearn.discriminant_analysis import LinearDiscriminantAnalysis as LDA\n",
    "from sklearn.model_selection import GridSearchCV\n",
    "from scipy.stats import gaussian_kde as kde\n",
    "from matplotlib.backends.backend_pgf import FigureCanvasPgf\n",
    "mpl.backend_bases.register_backend('pdf', FigureCanvasPgf)"
   ]
  },
  {
   "cell_type": "code",
   "execution_count": 2,
   "metadata": {},
   "outputs": [],
   "source": [
    "from matplotlib.backends.backend_pgf import FigureCanvasPgf\n",
    "mpl.backend_bases.register_backend('pdf', FigureCanvasPgf)\n",
    "plt.rcParams.update({\n",
    "    \"pgf.texsystem\": \"pdflatex\",\n",
    "    \"font.family\": \"serif\",  # use serif/main font for text elements\n",
    "    \"text.usetex\": True,     # use inline math for ticks\n",
    "    \"pgf.rcfonts\": False,    # don't setup fonts from rc parameters\n",
    "    \"pgf.preamble\": r\"\\usepackage{amsfonts}\",            # load additional packages\n",
    "})"
   ]
  },
  {
   "cell_type": "markdown",
   "metadata": {},
   "source": [
    "## define functions"
   ]
  },
  {
   "cell_type": "code",
   "execution_count": 3,
   "metadata": {},
   "outputs": [],
   "source": [
    "def Overall(Y,etaX,a):\n",
    "    # Y is the vector of labels 0 or 1\n",
    "    # etaX is the regression function \\eta evaluated at X\n",
    "    # a is the upper bound on the misclassification risk\n",
    "    \n",
    "    n = len(Y) # number of data points\n",
    "    mrisk = np.zeros(n) # misclassification risk\n",
    "    tvec = np.zeros(n) # vector of all possible thresholds\n",
    "    for i,etaXi in enumerate(etaX): # calculate mrisk for each possible threshold\n",
    "        if(Y[i] == 1):\n",
    "            t = etaXi\n",
    "        else:\n",
    "            t = 1-etaXi\n",
    "        # number of elements in etaX that are greater than (1-t) and have label 0\n",
    "        count_1 = np.sum((etaX > (1-t)) & (Y == 0))\n",
    "\n",
    "        # number of elements in etaX that are less than t and have label 1\n",
    "        count_2 = np.sum((etaX < t) & (Y == 1))\n",
    "\n",
    "        # mrisk\n",
    "        mrisk[i] = (count_1+count_2)/n   \n",
    "        \n",
    "        # add threshold t to tvec\n",
    "        tvec[i] = t\n",
    "        \n",
    "    # get index of largest element in mrisk that is <= a\n",
    "    tmp = mrisk\n",
    "    tmp[~(tmp <= a )] = np.iinfo(np.int32).min\n",
    "    index = np.argmax(tmp)\n",
    "\n",
    "    t = tvec[index] # optimal threshold\n",
    "    mrisk = mrisk[index] # misclassification risk associated with optimal threshold (should be just less than a)\n",
    "    arisk = np.sum((etaX >= t) & (etaX <= (1-t)))/n # abstention risk associated with optimal threshold\n",
    "    \n",
    "    return t, mrisk, arisk"
   ]
  },
  {
   "cell_type": "code",
   "execution_count": 4,
   "metadata": {},
   "outputs": [],
   "source": [
    "def ClassSpecific(label, qX,a):\n",
    "    # label is the label of the class (scalar: 0 or 1) that we are calculating the threshold for\n",
    "    # qX ist the density quotient p1/p0 evaluated at X\n",
    "    # a is the upper bound for the conditional misclassification risk P_j(f(X) = i), i != j, label = j\n",
    "    \n",
    "    n = len(qX) # number of data points in class\n",
    "    \n",
    "    if label == 0:\n",
    "        t = np.sort(qX)[::-1][np.ceil(a*n).astype(int)-1] # optimal threshold t0\n",
    "        mrisk = np.sum((qX > t))/n # misclassification risk associated to t0 (should be just less than a)\n",
    "    else:\n",
    "        t = np.sort(qX)[np.ceil(a*n).astype(int)-1]# optimal threshold t1\n",
    "        mrisk = np.sum((qX < t))/n # misclassification risk associated to t1 (should be just less than a)\n",
    "    \n",
    "    return t, mrisk"
   ]
  },
  {
   "cell_type": "markdown",
   "metadata": {},
   "source": [
    "# Example of normal distributed data"
   ]
  },
  {
   "cell_type": "markdown",
   "metadata": {},
   "source": [
    "## Simulation for Section 5.1.1"
   ]
  },
  {
   "cell_type": "markdown",
   "metadata": {},
   "source": [
    "#### define parameters of scenario 1"
   ]
  },
  {
   "cell_type": "code",
   "execution_count": 848,
   "metadata": {},
   "outputs": [],
   "source": [
    "mu0, mu1 = 1, 0 # expected value of normal distributions of p0 and p1\n",
    "sig = 1 # variance for normal distributions of p0 and p1\n",
    "\n",
    "s = (mu0-mu1)/sig # can be considered as normalized separation parameter between p0 and p1\n",
    "\n",
    "pi0 = 0.5 # pr(Y == 0)\n",
    "pi1 = 1-pi0# pr(Y == 1)"
   ]
  },
  {
   "cell_type": "markdown",
   "metadata": {},
   "source": [
    "#### plot densities p0 and p1"
   ]
  },
  {
   "cell_type": "code",
   "execution_count": 678,
   "metadata": {},
   "outputs": [],
   "source": [
    "x = np.arange(-4,4,0.01)\n",
    "p0 = norm.pdf(x, loc = mu0, scale = sig)\n",
    "p1 = norm.pdf(x, loc = mu1, scale = sig)"
   ]
  },
  {
   "cell_type": "code",
   "execution_count": 679,
   "metadata": {},
   "outputs": [
    {
     "data": {
      "image/png": "[encoded data removed]",
      "text/plain": [
       "<Figure size 432x288 with 1 Axes>"
      ]
     },
     "metadata": {
      "needs_background": "light"
     },
     "output_type": "display_data"
    }
   ],
   "source": [
    "plt.plot(x,p0, label = r'$p_0$', color = 'c')\n",
    "plt.plot(x,p1, label = r'$p_1$', color = 'm')\n",
    "plt.xlabel('x')\n",
    "plt.legend();\n",
    "#plt.savefig('dens1.pgf');"
   ]
  },
  {
   "cell_type": "markdown",
   "metadata": {},
   "source": [
    "#### plot mrisk and arisk vs t"
   ]
  },
  {
   "cell_type": "code",
   "execution_count": 680,
   "metadata": {},
   "outputs": [],
   "source": [
    "t = np.arange(0.001,0.5,0.001)\n",
    "\n",
    "# according to section 5.1.1:\n",
    "a = -0.5*s-(1/s)*np.log((1-t)/t*pi0/pi1)\n",
    "b = -0.5*s+(1/s)*np.log((1-t)/t*pi1/pi0)\n",
    "mrisk = pi0*(norm.cdf(a))+pi1*(1-norm.cdf(b+s))\n",
    "arisk = pi0*(norm.cdf(b) - norm.cdf(a))+pi1*(norm.cdf(b+s) - norm.cdf(a+s))"
   ]
  },
  {
   "cell_type": "code",
   "execution_count": 245,
   "metadata": {},
   "outputs": [],
   "source": [
    "mpl.use(\"pgf\")"
   ]
  },
  {
   "cell_type": "code",
   "execution_count": 681,
   "metadata": {},
   "outputs": [
    {
     "data": {
      "image/png": "[encoded data removed]",
      "text/plain": [
       "<Figure size 432x288 with 1 Axes>"
      ]
     },
     "metadata": {
      "needs_background": "light"
     },
     "output_type": "display_data"
    }
   ],
   "source": [
    "plt.plot(t,mrisk, label= r'$\\mathbb{P}(f(X)\\ne Y, f(X)\\ne E)$')\n",
    "plt.plot(t,arisk, label =r'$\\mathbb{P}(f(X) = E)$')\n",
    "plt.xlabel('Schwellenwert t')\n",
    "# plt.axvline(x=0.2, color='black', ls=':')\n",
    "# plt.axhline(y=mrisk[199], color='black', ls=':')\n",
    "plt.legend();\n",
    "#plt.savefig('1.pgf')"
   ]
  },
  {
   "cell_type": "markdown",
   "metadata": {},
   "source": [
    "#### class specific case"
   ]
  },
  {
   "cell_type": "code",
   "execution_count": 937,
   "metadata": {},
   "outputs": [],
   "source": [
    "t0 = np.linspace(0.001,5,1000)\n",
    "t1 = np.linspace(0.001,5, 1000)\n",
    "\n",
    "# according to section 5.1.1:\n",
    "a = -0.5*s-(1/s)*np.log(t0)\n",
    "b = -0.5*s-(1/s)*np.log(t1)\n",
    "mrisk0 = norm.cdf(a)\n",
    "mrisk1 = 1-norm.cdf(b+s)\n",
    "#arisk0 = norm.cdf(b) - norm.cdf(a)\n",
    "#arisk1 = norm.cdf(b+s) - norm.cdf(a+s)"
   ]
  },
  {
   "cell_type": "code",
   "execution_count": 965,
   "metadata": {},
   "outputs": [
    {
     "data": {
      "image/png": "[encoded data removed]",
      "text/plain": [
       "<Figure size 432x288 with 1 Axes>"
      ]
     },
     "metadata": {
      "needs_background": "light"
     },
     "output_type": "display_data"
    }
   ],
   "source": [
    "plt.plot(t0,mrisk0, label= r'$P_0(f(X)=1)$')\n",
    "#plt.plot(t0,arisk0, label =r'$P_0(f(X) = E)$')\n",
    "plt.xlabel('$t_0$')\n",
    "# plt.axvline(x=0.2, color='black', ls=':')\n",
    "# plt.axhline(y=mrisk[199], color='black', ls=':')\n",
    "plt.legend();\n",
    "plt.savefig('P_01.pgf')"
   ]
  },
  {
   "cell_type": "code",
   "execution_count": 966,
   "metadata": {},
   "outputs": [
    {
     "data": {
      "image/png": "[encoded data removed]",
      "text/plain": [
       "<Figure size 432x288 with 1 Axes>"
      ]
     },
     "metadata": {
      "needs_background": "light"
     },
     "output_type": "display_data"
    }
   ],
   "source": [
    "plt.plot(t1,mrisk1, label= r'$P_1(f(X) = 0)$')\n",
    "#plt.plot(t1,arisk1, label =r'$P_1(f(X) = E)$')\n",
    "plt.xlabel('$t_1$')\n",
    "# plt.axvline(x=0.2, color='black', ls=':')\n",
    "# plt.axhline(y=mrisk[199], color='black', ls=':')\n",
    "plt.legend();\n",
    "plt.savefig('P_10.pgf')"
   ]
  },
  {
   "cell_type": "markdown",
   "metadata": {},
   "source": [
    "#### define parameters of scenario 2"
   ]
  },
  {
   "cell_type": "code",
   "execution_count": 682,
   "metadata": {},
   "outputs": [],
   "source": [
    "mu0, mu1 = 1, -1 # expected value of normal distributions of p0 and p1\n",
    "sig = 1 # variance for normal distributions of p0 and p1\n",
    "\n",
    "s = (mu0-mu1)/sig # can be considered as normalized separation parameter between p0 and p1\n",
    "\n",
    "pi0 = 0.5 # pr(Y == 0)\n",
    "pi1 = 1-pi0# pr(Y == 1)"
   ]
  },
  {
   "cell_type": "markdown",
   "metadata": {},
   "source": [
    "#### plot densities p0 and p1"
   ]
  },
  {
   "cell_type": "code",
   "execution_count": 683,
   "metadata": {},
   "outputs": [],
   "source": [
    "x = np.arange(-4,4,0.01)\n",
    "p0 = norm.pdf(x, loc = mu0, scale = sig)\n",
    "p1 = norm.pdf(x, loc = mu1, scale = sig)"
   ]
  },
  {
   "cell_type": "code",
   "execution_count": 684,
   "metadata": {},
   "outputs": [
    {
     "data": {
      "image/png": "[encoded data removed]",
      "text/plain": [
       "<Figure size 432x288 with 1 Axes>"
      ]
     },
     "metadata": {
      "needs_background": "light"
     },
     "output_type": "display_data"
    }
   ],
   "source": [
    "plt.plot(x,p0, label = r'$p_0$', color = 'c')\n",
    "plt.plot(x,p1, label = r'$p_1$', color = 'm')\n",
    "plt.xlabel('x')\n",
    "plt.legend();\n",
    "#plt.savefig('dens2.pgf');"
   ]
  },
  {
   "cell_type": "markdown",
   "metadata": {},
   "source": [
    "#### plot mrisk and arisk vs t"
   ]
  },
  {
   "cell_type": "code",
   "execution_count": 685,
   "metadata": {},
   "outputs": [],
   "source": [
    "t = np.arange(0.001,0.5,0.001)\n",
    "\n",
    "# according to section 5.1.1:\n",
    "a = -0.5*s-(1/s)*np.log(1/t-1)\n",
    "b = -0.5*s+(1/s)*np.log(1/t-1)\n",
    "mrisk = pi0*(norm.cdf(a))+pi1*(1-norm.cdf(b+s))\n",
    "arisk = pi0*(norm.cdf(b) - norm.cdf(a))+pi1*(norm.cdf(b+s) - norm.cdf(a+s))"
   ]
  },
  {
   "cell_type": "code",
   "execution_count": 686,
   "metadata": {},
   "outputs": [
    {
     "data": {
      "image/png": "[encoded data removed]",
      "text/plain": [
       "<Figure size 432x288 with 1 Axes>"
      ]
     },
     "metadata": {
      "needs_background": "light"
     },
     "output_type": "display_data"
    }
   ],
   "source": [
    "plt.plot(t,mrisk, label= r'$\\mathbb{P}(f(X)\\ne Y, f(X)\\ne E)$')\n",
    "plt.plot(t,arisk, label =r'$\\mathbb{P}(f(X) = E)$')\n",
    "plt.xlabel('Schwellenwert t')\n",
    "# plt.axvline(x=0.2, color='black', ls=':')\n",
    "# plt.axhline(y=mrisk[199], color='black', ls=':')\n",
    "plt.legend();\n",
    "#plt.savefig('1.pgf')"
   ]
  },
  {
   "cell_type": "markdown",
   "metadata": {},
   "source": [
    "#### plot t vs mrisk"
   ]
  },
  {
   "cell_type": "code",
   "execution_count": 689,
   "metadata": {},
   "outputs": [
    {
     "data": {
      "text/plain": [
       "<matplotlib.legend.Legend at 0x23d2c5615b0>"
      ]
     },
     "execution_count": 689,
     "metadata": {},
     "output_type": "execute_result"
    },
    {
     "data": {
      "image/png": "[encoded data removed]",
      "text/plain": [
       "<Figure size 432x288 with 1 Axes>"
      ]
     },
     "metadata": {
      "needs_background": "light"
     },
     "output_type": "display_data"
    }
   ],
   "source": [
    "plt.plot(mrisk, t, label = '$t$')\n",
    "plt.xlabel(r'$\\alpha$')\n",
    "plt.legend()"
   ]
  },
  {
   "cell_type": "markdown",
   "metadata": {},
   "source": [
    "## estimation of regression function/ density quotient"
   ]
  },
  {
   "cell_type": "markdown",
   "metadata": {},
   "source": [
    "#### define parameters"
   ]
  },
  {
   "cell_type": "code",
   "execution_count": 969,
   "metadata": {},
   "outputs": [],
   "source": [
    "mu0, mu1 = 1, 0\n",
    "sig = 1\n",
    "\n",
    "n0, n1 =  500,500\n",
    "n = n0+n1\n",
    "\n",
    "pi0 = n0/n\n",
    "pi1 = n1/n"
   ]
  },
  {
   "cell_type": "markdown",
   "metadata": {},
   "source": [
    "### 1. overall (estimation of regression function)"
   ]
  },
  {
   "cell_type": "markdown",
   "metadata": {},
   "source": [
    "#### define theoretical/true regression function"
   ]
  },
  {
   "cell_type": "code",
   "execution_count": 970,
   "metadata": {},
   "outputs": [],
   "source": [
    "x = np.arange(-2,3,0.01)\n",
    "p0 = norm.pdf(x, loc = mu0, scale = sig)\n",
    "p1 = norm.pdf(x, loc = mu1, scale = sig)\n",
    "\n",
    "etaX_true = (pi1*p1)/(pi1*p1+pi0*p0)"
   ]
  },
  {
   "cell_type": "markdown",
   "metadata": {},
   "source": [
    "#### calculate estimated regression function (Scenario 1)"
   ]
  },
  {
   "cell_type": "markdown",
   "metadata": {},
   "source": [
    "degree = 1, radius = 2\n",
    "\n",
    "note: etaX ist the average of m repetitions"
   ]
  },
  {
   "cell_type": "code",
   "execution_count": 972,
   "metadata": {},
   "outputs": [],
   "source": [
    "m = 1000\n",
    "x = np.arange(-2,3,0.01)\n",
    "etaX = np.zeros((len(x),m))\n",
    "\n",
    "for i in range(m):\n",
    "    \n",
    "    (X0, Y0) = (np.random.default_rng().normal(mu0,sig,n0), np.zeros(n0))\n",
    "    (X1, Y1) = (np.random.default_rng().normal(mu1,sig,n1), np.ones(n1))\n",
    "\n",
    "    X = np.concatenate((X0,X1))\n",
    "    Y = np.concatenate((Y0,Y1))\n",
    "\n",
    "    # X = normalize(X[:,np.newaxis], axis=0).ravel()\n",
    "    etaX[:,i] = localreg(X,Y,x,radius = 2, degree = 1)\n",
    "    \n",
    "etaX = np.mean(etaX, axis = 1)"
   ]
  },
  {
   "cell_type": "markdown",
   "metadata": {},
   "source": [
    "#### plot theoretical vs. estimated regression function"
   ]
  },
  {
   "cell_type": "code",
   "execution_count": 973,
   "metadata": {},
   "outputs": [
    {
     "data": {
      "image/png": "[encoded data removed]",
      "text/plain": [
       "<Figure size 432x288 with 1 Axes>"
      ]
     },
     "metadata": {
      "needs_background": "light"
     },
     "output_type": "display_data"
    }
   ],
   "source": [
    "plt.plot(x,etaX_true, label = '$\\eta$')\n",
    "plt.plot(x,etaX, label = '$\\hat \\eta$')\n",
    "plt.axvline(x=0.5, color='black', ls=':')\n",
    "plt.axhline(y=0.5, color='black', ls=':')\n",
    "plt.legend()\n",
    "plt.xlabel('$x$');\n",
    "plt.savefig('eta^_1.pgf')"
   ]
  },
  {
   "cell_type": "markdown",
   "metadata": {},
   "source": [
    "#### calculate estimated regression function (Scenario 2)"
   ]
  },
  {
   "cell_type": "markdown",
   "metadata": {},
   "source": [
    "degree = 2, radius = 1\n",
    "\n",
    "note: etaX ist the average of m repetitions"
   ]
  },
  {
   "cell_type": "code",
   "execution_count": 974,
   "metadata": {},
   "outputs": [],
   "source": [
    "m = 1000\n",
    "x = np.arange(-2,3,0.01)\n",
    "etaX = np.zeros((len(x),m))\n",
    "\n",
    "for i in range(m):\n",
    "    \n",
    "    (X0, Y0) = (np.random.default_rng().normal(mu0,sig,n0), np.zeros(n0))\n",
    "    (X1, Y1) = (np.random.default_rng().normal(mu1,sig,n1), np.ones(n1))\n",
    "\n",
    "    X = np.concatenate((X0,X1))\n",
    "    Y = np.concatenate((Y0,Y1))\n",
    "\n",
    "    # X = normalize(X[:,np.newaxis], axis=0).ravel()\n",
    "    etaX[:,i] = localreg(X,Y,x,radius = 1, degree = 2)\n",
    "    \n",
    "etaX = np.mean(etaX, axis = 1)"
   ]
  },
  {
   "cell_type": "code",
   "execution_count": 975,
   "metadata": {},
   "outputs": [
    {
     "data": {
      "image/png": "[encoded data removed]",
      "text/plain": [
       "<Figure size 432x288 with 1 Axes>"
      ]
     },
     "metadata": {
      "needs_background": "light"
     },
     "output_type": "display_data"
    }
   ],
   "source": [
    "plt.plot(x,etaX_true, label = '$\\eta$')\n",
    "plt.plot(x,etaX, label = '$\\hat \\eta$')\n",
    "# plt.axvline(x=0.5, color='black', ls=':')\n",
    "# plt.axhline(y=0.5, color='black', ls=':')\n",
    "plt.legend()\n",
    "plt.xlabel('$x$');\n",
    "#plt.savefig('eta^_2.pgf')"
   ]
  },
  {
   "cell_type": "markdown",
   "metadata": {},
   "source": [
    "### 2. estimation of density quotient"
   ]
  },
  {
   "cell_type": "markdown",
   "metadata": {},
   "source": [
    "#### define true density quotient"
   ]
  },
  {
   "cell_type": "code",
   "execution_count": 976,
   "metadata": {},
   "outputs": [],
   "source": [
    "x = np.linspace(-2, 3, 1000)\n",
    "p0_true = norm.pdf(x, loc = mu0, scale = sig)\n",
    "p1_true = norm.pdf(x, loc = mu1, scale = sig)\n",
    "qX_true = p1_true/p0_true"
   ]
  },
  {
   "cell_type": "markdown",
   "metadata": {},
   "source": [
    "- Estimation with KernelDensity from sklearn.neighbours"
   ]
  },
  {
   "cell_type": "code",
   "execution_count": 977,
   "metadata": {},
   "outputs": [],
   "source": [
    "m = 10000\n",
    "x = np.linspace(-2, 3, 1000)\n",
    "log_dens0 = np.zeros((len(x),m))\n",
    "log_dens1 = np.zeros((len(x),m))\n",
    "\n",
    "for i in range(m):\n",
    "    \n",
    "    (X0, Y0) = (np.random.default_rng().normal(mu0,sig,n0), np.zeros(n0))\n",
    "    (X1, Y1) = (np.random.default_rng().normal(mu1,sig,n1), np.ones(n1))\n",
    "    p0_est = dens(kernel='epanechnikov', bandwidth=1).fit(X0[:, np.newaxis])\n",
    "    p1_est = dens(kernel='epanechnikov', bandwidth=1).fit(X1[:, np.newaxis])\n",
    "    log_dens0[:,i] = p0_est.score_samples(x[:, np.newaxis])\n",
    "    log_dens1[:,i] = p1_est.score_samples(x[:, np.newaxis])\n",
    "\n",
    "    \n",
    "log_dens0 = np.mean(log_dens0, axis = 1)\n",
    "log_dens1 = np.mean(log_dens1, axis = 1)"
   ]
  },
  {
   "cell_type": "code",
   "execution_count": 978,
   "metadata": {},
   "outputs": [],
   "source": [
    "p0 = np.exp(p0_est.score_samples(x[:, np.newaxis]))\n",
    "p1 = np.exp(p1_est.score_samples(x[:, np.newaxis]))\n",
    "qX = p1/p0"
   ]
  },
  {
   "cell_type": "code",
   "execution_count": 982,
   "metadata": {},
   "outputs": [
    {
     "data": {
      "image/png": "[encoded data removed]",
      "text/plain": [
       "<Figure size 432x288 with 1 Axes>"
      ]
     },
     "metadata": {
      "needs_background": "light"
     },
     "output_type": "display_data"
    }
   ],
   "source": [
    "plt.plot(x,p0,label = r'$\\hat p_0$')\n",
    "plt.plot(x,p1,label = r'$\\hat p_1$')\n",
    "# plt.plot(x,p0_true,label = r'$p_0$')\n",
    "# plt.plot(x,p1_true,label = r'$p_1$')\n",
    "plt.legend()\n",
    "plt.xlabel(r'$x$')\n",
    "#plt.savefig('p^_1.pgf')"
   ]
  },
  {
   "cell_type": "code",
   "execution_count": 983,
   "metadata": {},
   "outputs": [
    {
     "data": {
      "image/png": "[encoded data removed]",
      "text/plain": [
       "<Figure size 432x288 with 1 Axes>"
      ]
     },
     "metadata": {
      "needs_background": "light"
     },
     "output_type": "display_data"
    }
   ],
   "source": [
    "plt.plot(x,qX_true, label = r'$p_1/p_0$')\n",
    "plt.plot(x,qX, label = r'$\\hat p_1/\\hat p_0$')\n",
    "plt.legend()\n",
    "plt.xlabel('$x$');\n",
    "#plt.savefig('q^_1.pgf')"
   ]
  },
  {
   "cell_type": "markdown",
   "metadata": {},
   "source": [
    "- Estimation with gaussian_kde from scipy.stats"
   ]
  },
  {
   "cell_type": "code",
   "execution_count": 984,
   "metadata": {},
   "outputs": [],
   "source": [
    "m = 10000\n",
    "x = np.linspace(-2, 3, 1000)\n",
    "p0_estx = np.zeros((len(x),m))\n",
    "p1_estx = np.zeros((len(x),m))\n",
    "\n",
    "for i in range(m):\n",
    "    \n",
    "    X0 = np.random.default_rng().normal(mu0,sig,n0)\n",
    "    X1 = np.random.default_rng().normal(mu1,sig,n1)\n",
    "    p0_est = kde(X0.T)\n",
    "    p1_est = kde(X1.T)\n",
    "    #p0_est.set_bandwidth(bw_method=1)\n",
    "    #p1_est.set_bandwidth(bw_method=1)\n",
    "    p0_estx[:,i] = p0_est(x.T)\n",
    "    p1_estx[:,i] = p1_est(x.T)\n",
    "\n",
    "    \n",
    "p0_estx = np.mean(p0_estx, axis = 1)\n",
    "p1_estx = np.mean(p1_estx, axis = 1)"
   ]
  },
  {
   "cell_type": "code",
   "execution_count": 985,
   "metadata": {},
   "outputs": [],
   "source": [
    "qX = p1_estx/p0_estx"
   ]
  },
  {
   "cell_type": "code",
   "execution_count": 986,
   "metadata": {},
   "outputs": [
    {
     "data": {
      "image/png": "[encoded data removed]",
      "text/plain": [
       "<Figure size 432x288 with 1 Axes>"
      ]
     },
     "metadata": {
      "needs_background": "light"
     },
     "output_type": "display_data"
    }
   ],
   "source": [
    "plt.plot(x,p0_estx,label = r'$\\hat p_0$')\n",
    "plt.plot(x,p1_estx,label = r'$\\hat p_1$')\n",
    "# plt.plot(x,p0_true,label = r'$p_0$')\n",
    "# plt.plot(x,p1_true,label = r'$p_1$')\n",
    "plt.legend()\n",
    "plt.xlabel(r'$x$')\n",
    "#plt.savefig('p^_2.pgf')"
   ]
  },
  {
   "cell_type": "code",
   "execution_count": 987,
   "metadata": {},
   "outputs": [
    {
     "data": {
      "image/png": "[encoded data removed]",
      "text/plain": [
       "<Figure size 432x288 with 1 Axes>"
      ]
     },
     "metadata": {
      "needs_background": "light"
     },
     "output_type": "display_data"
    }
   ],
   "source": [
    "plt.plot(x,qX_true, label = r'$p_1/p_0$')\n",
    "plt.plot(x,qX, label = r'$\\hat p_1/\\hat p_0$')\n",
    "# plt.axvline(x=0.5, color='black', ls=':')\n",
    "# plt.axhline(y=0.5, color='black', ls=':')\n",
    "plt.legend()\n",
    "plt.xlabel('$x$');\n",
    "#plt.savefig('q^_2.pgf')"
   ]
  },
  {
   "cell_type": "markdown",
   "metadata": {},
   "source": [
    "---"
   ]
  },
  {
   "cell_type": "markdown",
   "metadata": {},
   "source": [
    "## Analysis of distribution of estimator"
   ]
  },
  {
   "cell_type": "markdown",
   "metadata": {},
   "source": [
    "### for overall mrisk"
   ]
  },
  {
   "cell_type": "markdown",
   "metadata": {},
   "source": [
    "#### define parameters of model"
   ]
  },
  {
   "cell_type": "code",
   "execution_count": null,
   "metadata": {},
   "outputs": [],
   "source": [
    "mu0, mu1 = 1, 0\n",
    "sig = 1\n",
    "\n",
    "n0, n1 = 500,500\n",
    "n = n0+n1\n",
    "\n",
    "pi0 = n0/n\n",
    "pi1 = n1/n"
   ]
  },
  {
   "cell_type": "markdown",
   "metadata": {},
   "source": [
    "#### define theoretical regression function"
   ]
  },
  {
   "cell_type": "code",
   "execution_count": 993,
   "metadata": {},
   "outputs": [],
   "source": [
    "m = 10000\n",
    "t = np.zeros(m)\n",
    "t_true = np.zeros(m)\n",
    "\n",
    "for i in range(m):\n",
    "    \n",
    "    (X0, Y0) = (np.random.default_rng().normal(mu0,sig,n0), np.zeros(n0))\n",
    "    (X1, Y1) = (np.random.default_rng().normal(mu1,sig,n1), np.ones(n1))\n",
    "\n",
    "    X = np.concatenate((X0,X1))\n",
    "    Y = np.concatenate((Y0,Y1))\n",
    "    \n",
    "    p0 = norm.pdf(X, loc = mu0, scale = sig)\n",
    "    p1 = norm.pdf(X, loc = mu1, scale = sig)\n",
    "    etaX_true = (pi1*p1)/(pi1*p1+pi0*p0)\n",
    "\n",
    "    etaX = localreg(X,Y,degree = 2, radius = 1)\n",
    "    t[i] = Overall(Y,etaX,0.05)[0]\n",
    "    t_true[i] = Overall(Y,etaX_true,0.05)[0]"
   ]
  },
  {
   "cell_type": "code",
   "execution_count": 1003,
   "metadata": {},
   "outputs": [
    {
     "data": {
      "image/png": "[encoded data removed]",
      "text/plain": [
       "<Figure size 432x288 with 1 Axes>"
      ]
     },
     "metadata": {
      "needs_background": "light"
     },
     "output_type": "display_data"
    }
   ],
   "source": [
    "bins = np.linspace(0.1, 0.4, 30)\n",
    "plt.hist(t, bins=bins, fc=\"#AAAAFF\", density = True)\n",
    "plt.axvline(x=0.2415, color='black', ls=':')\n",
    "#plt.legend()\n",
    "plt.xlabel('$\\hat t$')\n",
    "#plt.savefig('t_Schaetzer.pgf')"
   ]
  },
  {
   "cell_type": "code",
   "execution_count": 1004,
   "metadata": {},
   "outputs": [
    {
     "data": {
      "image/png": "[encoded data removed]",
      "text/plain": [
       "<Figure size 432x288 with 1 Axes>"
      ]
     },
     "metadata": {
      "needs_background": "light"
     },
     "output_type": "display_data"
    }
   ],
   "source": [
    "bins = np.linspace(0.1, 0.4, 30)\n",
    "plt.hist(t_true, bins=bins, fc=\"#AAAAFF\", density = True)\n",
    "plt.axvline(x=0.2415, color='black', ls=':')\n",
    "#plt.legend()\n",
    "plt.xlabel('$t$')\n",
    "#plt.savefig('t_trueSchaetzer.pgf')"
   ]
  },
  {
   "cell_type": "markdown",
   "metadata": {},
   "source": [
    "### class specific"
   ]
  },
  {
   "cell_type": "code",
   "execution_count": 996,
   "metadata": {},
   "outputs": [],
   "source": [
    "m = 10000\n",
    "t0 = np.zeros(m)\n",
    "t0_true = np.zeros(m)\n",
    "t1 = np.zeros(m)\n",
    "t1_true = np.zeros(m)\n",
    "\n",
    "for i in range(m):\n",
    "    \n",
    "    X0 = np.random.default_rng().normal(mu0,sig,n0)\n",
    "    X1 = np.random.default_rng().normal(mu1,sig,n1)\n",
    "    \n",
    "    p0 = norm.pdf(X0, loc = mu0, scale = sig)\n",
    "    p1 = norm.pdf(X0, loc = mu1, scale = sig)\n",
    "    qX0_true = p1/p0\n",
    "    \n",
    "    p0 = norm.pdf(X1, loc = mu0, scale = sig)\n",
    "    p1 = norm.pdf(X1, loc = mu1, scale = sig)\n",
    "    qX1_true = p1/p0\n",
    "    \n",
    "    p0_est = kde(X0.T)\n",
    "    p1_est = kde(X1.T)\n",
    "    \n",
    "    qX0 = p1_est(X0.T)/p0_est(X0.T)\n",
    "    qX1 = p1_est(X1.T)/p0_est(X1.T)    \n",
    "\n",
    "    t0[i] = ClassSpecific(0,qX0,0.05)[0]\n",
    "    t0_true[i] = ClassSpecific(0,qX0_true,0.05)[0]\n",
    "    t1[i] = ClassSpecific(1,qX1,0.05)[0]\n",
    "    t1_true[i] = ClassSpecific(1,qX1_true,0.05)[0]"
   ]
  },
  {
   "cell_type": "code",
   "execution_count": 1005,
   "metadata": {},
   "outputs": [
    {
     "data": {
      "image/png": "[encoded data removed]",
      "text/plain": [
       "<Figure size 432x288 with 1 Axes>"
      ]
     },
     "metadata": {
      "needs_background": "light"
     },
     "output_type": "display_data"
    }
   ],
   "source": [
    "bins = np.linspace(0,5, 30)\n",
    "plt.hist(t0, bins=bins, fc=\"#AAAAFF\", density = True)\n",
    "plt.axvline(x=3.14164, color='black', ls=':')\n",
    "#plt.legend()\n",
    "plt.xlabel('$\\hat t_0$')\n",
    "plt.savefig('t0_Schaetzer.pgf')"
   ]
  },
  {
   "cell_type": "code",
   "execution_count": 1006,
   "metadata": {},
   "outputs": [
    {
     "data": {
      "image/png": "[encoded data removed]",
      "text/plain": [
       "<Figure size 432x288 with 1 Axes>"
      ]
     },
     "metadata": {
      "needs_background": "light"
     },
     "output_type": "display_data"
    }
   ],
   "source": [
    "bins = np.linspace(0,5, 30)\n",
    "plt.hist(t0_true, bins=bins, fc=\"#AAAAFF\", density = True)\n",
    "plt.axvline(x = 3.14164, color='black', ls=':')\n",
    "#plt.legend()\n",
    "plt.xlabel('$\\hat t_0$')\n",
    "plt.savefig('t0_trueSchaetzer.pgf')"
   ]
  },
  {
   "cell_type": "code",
   "execution_count": 1010,
   "metadata": {},
   "outputs": [
    {
     "data": {
      "image/png": "[encoded data removed]",
      "text/plain": [
       "<Figure size 432x288 with 1 Axes>"
      ]
     },
     "metadata": {
      "needs_background": "light"
     },
     "output_type": "display_data"
    }
   ],
   "source": [
    "bins = np.linspace(0,5, 50)\n",
    "plt.hist(t1, bins=bins, fc=\"#AAAAFF\", density = True)\n",
    "plt.axvline(x=0.318, color='black', ls=':')\n",
    "#plt.legend()\n",
    "plt.xlabel('$\\hat t_1$')\n",
    "plt.savefig('t1_Schaetzer.pgf')"
   ]
  },
  {
   "cell_type": "code",
   "execution_count": 1009,
   "metadata": {},
   "outputs": [
    {
     "data": {
      "image/png": "[encoded data removed]",
      "text/plain": [
       "<Figure size 432x288 with 1 Axes>"
      ]
     },
     "metadata": {
      "needs_background": "light"
     },
     "output_type": "display_data"
    }
   ],
   "source": [
    "bins = np.linspace(0,5, 50)\n",
    "plt.hist(t1_true, bins=bins, fc=\"#AAAAFF\", density = True)\n",
    "plt.axvline(x=0.318, color='black', ls=':')\n",
    "#plt.legend()\n",
    "plt.xlabel('$\\hat t$')\n",
    "plt.savefig('t1_trueSchaetzer.pgf')"
   ]
  },
  {
   "cell_type": "markdown",
   "metadata": {},
   "source": [
    "---"
   ]
  },
  {
   "cell_type": "markdown",
   "metadata": {},
   "source": [
    "## unused: plots for theoretical distributions in section 5.1.3"
   ]
  },
  {
   "cell_type": "markdown",
   "metadata": {},
   "source": [
    "#### define parameters"
   ]
  },
  {
   "cell_type": "code",
   "execution_count": 1011,
   "metadata": {},
   "outputs": [],
   "source": [
    "mu0, mu1 = 1, 0\n",
    "sig = 1\n",
    "pi0 = 1/13\n",
    "pi1 = 1-pi0\n",
    "\n",
    "s = (mu0-mu1)/sig"
   ]
  },
  {
   "cell_type": "markdown",
   "metadata": {},
   "source": [
    "#### plot t vs. mrisk"
   ]
  },
  {
   "cell_type": "code",
   "execution_count": 1014,
   "metadata": {},
   "outputs": [
    {
     "data": {
      "text/plain": [
       "[<matplotlib.lines.Line2D at 0x23d35241820>]"
      ]
     },
     "execution_count": 1014,
     "metadata": {},
     "output_type": "execute_result"
    },
    {
     "data": {
      "image/png": "[encoded data removed]",
      "text/plain": [
       "<Figure size 432x288 with 1 Axes>"
      ]
     },
     "metadata": {
      "needs_background": "light"
     },
     "output_type": "display_data"
    }
   ],
   "source": [
    "plt.plot(mrisk,t)"
   ]
  },
  {
   "cell_type": "markdown",
   "metadata": {},
   "source": [
    "#### plot mrisk vs. t"
   ]
  },
  {
   "cell_type": "code",
   "execution_count": 1013,
   "metadata": {},
   "outputs": [
    {
     "data": {
      "text/plain": [
       "[<matplotlib.lines.Line2D at 0x23d351e5790>]"
      ]
     },
     "execution_count": 1013,
     "metadata": {},
     "output_type": "execute_result"
    },
    {
     "data": {
      "image/png": "[encoded data removed]",
      "text/plain": [
       "<Figure size 432x288 with 1 Axes>"
      ]
     },
     "metadata": {
      "needs_background": "light"
     },
     "output_type": "display_data"
    }
   ],
   "source": [
    "t = np.arange(0.001,0.5,0.0001)\n",
    "a = -0.5*s-(1/s)*np.log((1/t-1)*pi0/pi1)\n",
    "b = -0.5*s+(1/s)*np.log((1/t-1)*pi1/pi0)\n",
    "mrisk = pi0*(norm.cdf(a))+pi1*(1-norm.cdf(b+s))\n",
    "arisk = pi0*(norm.cdf(b) - norm.cdf(a))+pi1*(norm.cdf(b+s) - norm.cdf(a+s))\n",
    "plt.plot(t, mrisk)\n",
    "plt.plot(t, arisk)"
   ]
  },
  {
   "cell_type": "markdown",
   "metadata": {},
   "source": [
    "#### plot t vs. (cond.) missclassification risks"
   ]
  },
  {
   "cell_type": "code",
   "execution_count": 1015,
   "metadata": {},
   "outputs": [
    {
     "data": {
      "text/plain": [
       "[<matplotlib.lines.Line2D at 0x23d352afa00>]"
      ]
     },
     "execution_count": 1015,
     "metadata": {},
     "output_type": "execute_result"
    },
    {
     "data": {
      "image/png": "[encoded data removed]",
      "text/plain": [
       "<Figure size 432x288 with 1 Axes>"
      ]
     },
     "metadata": {
      "needs_background": "light"
     },
     "output_type": "display_data"
    }
   ],
   "source": [
    "mrisk0 = (norm.cdf(a))\n",
    "mrisk1 = (1-norm.cdf(b+s))\n",
    "mrisk = pi0*(norm.cdf(a))+pi1*(1-norm.cdf(b+s))\n",
    "plt.plot(t, mrisk)\n",
    "plt.plot(t, mrisk0)\n",
    "plt.plot(t, mrisk1)"
   ]
  },
  {
   "cell_type": "markdown",
   "metadata": {},
   "source": [
    "---"
   ]
  },
  {
   "cell_type": "markdown",
   "metadata": {},
   "source": [
    "#### So far for the theoretical distributions. Now we estimate.\n",
    "#### First: sample from normal distribution with parameters specified above"
   ]
  },
  {
   "cell_type": "code",
   "execution_count": 196,
   "metadata": {},
   "outputs": [],
   "source": [
    "mu0, mu1 = 1, 0\n",
    "sig = 1\n",
    "\n",
    "n0, n1 = 500,6000\n",
    "n = n0+n1\n",
    "\n",
    "pi0 = n0/n\n",
    "pi1 = n1/n\n",
    "\n",
    "(X0, Y0) = (np.random.default_rng().normal(mu0,sig,n0), np.zeros(n0))\n",
    "(X1, Y1) = (np.random.default_rng().normal(mu1,sig,n1), np.ones(n1))\n",
    "\n",
    "X = np.concatenate((X0,X1))\n",
    "Y = np.concatenate((Y0,Y1))\n",
    "\n",
    "X_train, X_test, Y_train, Y_test = train_test_split(X, Y, test_size=0.33, random_state=42)\n",
    "\n",
    "n0_test = len(Y_test[np.where(Y_test==0)[0]])\n",
    "n1_test = len(Y_test[np.where(Y_test==1)[0]])\n",
    "n_test = len(Y_test)"
   ]
  },
  {
   "cell_type": "code",
   "execution_count": 197,
   "metadata": {},
   "outputs": [],
   "source": [
    "X_train0 = X_train[np.where(Y_train == 0)[0]]\n",
    "X_train1 = X_train[np.where(Y_train == 1)[0]]"
   ]
  },
  {
   "cell_type": "code",
   "execution_count": 198,
   "metadata": {},
   "outputs": [],
   "source": [
    "X_test0 = X_test[np.where(Y_test == 0)[0]]\n",
    "X_test1 = X_test[np.where(Y_test == 1)[0]]"
   ]
  },
  {
   "cell_type": "code",
   "execution_count": 199,
   "metadata": {},
   "outputs": [
    {
     "data": {
      "text/plain": [
       "4042"
      ]
     },
     "execution_count": 199,
     "metadata": {},
     "output_type": "execute_result"
    }
   ],
   "source": [
    "len(X_train1)"
   ]
  },
  {
   "cell_type": "markdown",
   "metadata": {},
   "source": [
    "### Overall"
   ]
  },
  {
   "cell_type": "markdown",
   "metadata": {},
   "source": [
    "#### estimate regression function using locpol package"
   ]
  },
  {
   "cell_type": "code",
   "execution_count": 284,
   "metadata": {},
   "outputs": [],
   "source": [
    "etaX_train = localreg(X_train, Y_train, degree = 2)\n",
    "etaX_test = localreg(X_train, Y_train, X_test, degree = 2)"
   ]
  },
  {
   "cell_type": "markdown",
   "metadata": {},
   "source": [
    "#### plot t vs mrisk"
   ]
  },
  {
   "cell_type": "code",
   "execution_count": 285,
   "metadata": {},
   "outputs": [
    {
     "data": {
      "text/plain": [
       "0.07210103329506315"
      ]
     },
     "execution_count": 285,
     "metadata": {},
     "output_type": "execute_result"
    }
   ],
   "source": [
    "count_1 = np.sum((etaX_train > 0.5) & (Y_train == 0))\n",
    "count_2 = np.sum((etaX_train < 0.5) & (Y_train == 1))\n",
    "(count_1+count_2)/len(Y_train)   "
   ]
  },
  {
   "cell_type": "code",
   "execution_count": 286,
   "metadata": {},
   "outputs": [],
   "source": [
    "alpha = np.arange(0,0.0721,0.001)\n",
    "l = len(alpha)\n",
    "\n",
    "etaX_test0 = etaX_test[np.where(Y_test == 0)[0]] # to plot the cond. mis.risk\n",
    "etaX_test1 = etaX_test[np.where(Y_test == 1)[0]] # to plot the cond. mis.risk\n",
    "\n",
    "t = np.zeros(l)\n",
    "mrisk = np.zeros(l)\n",
    "mrisk0 = np.zeros(l)\n",
    "mrisk1 = np.zeros(l)\n",
    "arisk = np.zeros(l)\n",
    "mrisk_train= np.zeros(l)\n",
    "\n",
    "for i in range(l):\n",
    "    t[i] = Overall(Y_train,etaX_train,alpha[i])[0]\n",
    "    mrisk_train[i] = Overall(Y_train,etaX_train,alpha[i])[1]\n",
    "    mrisk0[i] = np.sum(etaX_test0 > (1- t[i]))/n0_test\n",
    "    mrisk1[i] = np.sum(etaX_test1 <  t[i])/n1_test\n",
    "    mrisk[i] = (np.sum((etaX_test <  t[i]) & (Y_test == 1)) + np.sum((etaX_test > (1-t[i])) & (Y_test == 0)))/(n_test)\n",
    "    arisk[i] = np.sum((etaX_test >=  t[i]) & (etaX_test <= (1-t[i])))/(n_test)"
   ]
  },
  {
   "cell_type": "code",
   "execution_count": 300,
   "metadata": {},
   "outputs": [
    {
     "data": {
      "image/png": "[encoded data removed]",
      "text/plain": [
       "<Figure size 432x288 with 1 Axes>"
      ]
     },
     "metadata": {
      "needs_background": "light"
     },
     "output_type": "display_data"
    }
   ],
   "source": [
    "plt.plot(alpha,t, label = r'$\\hat t$ vs. $\\alpha$')\n",
    "# plt.plot(t,arisk, label = r'$\\mathbb{P}^{test}(f(X)= E)$')\n",
    "# plt.plot(alpha,mrisk0, label = r'$P^{test}_0(f(X)=1)$')\n",
    "# plt.plot(alpha,mrisk1, label = r'$P^{test}_1(f(X)=0)$')\n",
    "plt.xlabel(r'$\\alpha$')\n",
    "#plt.ylabel(r'$\\hat t$')\n",
    "plt.annotate('$\\hat t\\sim 0.18$',xy=(0.05,0.1835488286749989),xytext=(0.0505,0.13),arrowprops=dict(arrowstyle='->'))\n",
    "plt.legend()\n",
    "plt.axvline(x=0.05, color='black', ls=':')\n",
    "# plt.axvline(0.05, color='green', ls=':')\n",
    "# plt.savefig('alphavst.pgf')"
   ]
  },
  {
   "cell_type": "code",
   "execution_count": 290,
   "metadata": {},
   "outputs": [
    {
     "data": {
      "text/plain": [
       "0.1835488286749989"
      ]
     },
     "execution_count": 290,
     "metadata": {},
     "output_type": "execute_result"
    }
   ],
   "source": [
    "Overall(Y_train,etaX_train,0.05)[0]"
   ]
  },
  {
   "cell_type": "code",
   "execution_count": 301,
   "metadata": {},
   "outputs": [
    {
     "data": {
      "image/png": "[encoded data removed]",
      "text/plain": [
       "<Figure size 432x288 with 1 Axes>"
      ]
     },
     "metadata": {
      "needs_background": "light"
     },
     "output_type": "display_data"
    }
   ],
   "source": [
    "plt.plot(t, mrisk, label = r'$\\mathbb{P}^{test}(\\hat f(X)\\ne Y, \\hat f(X)\\ne E)$')\n",
    "plt.plot(t, mrisk_train, label = r'$\\mathbb{P}^{train}(\\hat f(X)\\ne Y, \\hat f(X)\\ne E)$')\n",
    "plt.plot(t, arisk, label = r'$\\mathbb{P}^{test}(\\hat f(X)= E)$')\n",
    "plt.xlabel(r'$\\hat t$')\n",
    "plt.axvline(x=0.18, color='black', ls=':')\n",
    "#plt.annotate(r'$\\alpha\\sim 0.06$',xy=(0.19194427896412325,0.062938),xytext=(0.21,0.13),arrowprops=dict(arrowstyle='->'))\n",
    "plt.legend()\n",
    "# plt.savefig('plt2.pgf')"
   ]
  },
  {
   "cell_type": "code",
   "execution_count": 292,
   "metadata": {},
   "outputs": [
    {
     "data": {
      "text/plain": [
       "0.09696969696969697"
      ]
     },
     "execution_count": 292,
     "metadata": {},
     "output_type": "execute_result"
    }
   ],
   "source": [
    "np.sum((etaX_test >= 0.1835488286749989) & (etaX_test <= 1-0.1835488286749989))/len(etaX_test)"
   ]
  },
  {
   "cell_type": "code",
   "execution_count": 293,
   "metadata": {},
   "outputs": [
    {
     "data": {
      "text/plain": [
       "0.05780885780885781"
      ]
     },
     "execution_count": 293,
     "metadata": {},
     "output_type": "execute_result"
    }
   ],
   "source": [
    "(np.sum((etaX_test < 0.1835488286749989) & (Y_test == 1)) + np.sum((etaX_test > 1-0.1835488286749989) & (Y_test == 0)))/len(Y_test)"
   ]
  },
  {
   "cell_type": "code",
   "execution_count": 302,
   "metadata": {},
   "outputs": [
    {
     "data": {
      "image/png": "[encoded data removed]",
      "text/plain": [
       "<Figure size 432x288 with 1 Axes>"
      ]
     },
     "metadata": {
      "needs_background": "light"
     },
     "output_type": "display_data"
    }
   ],
   "source": [
    "plt.plot(t, mrisk, label = r'$\\mathbb{P}^{test}(\\hat f(X)\\ne Y, f(X)\\ne E)$')\n",
    "plt.plot(t, mrisk0, label = r'$P^{test}_0(\\hat f(X)=1)$', color = 'darkgreen')\n",
    "plt.plot(t, mrisk1, label = r'$P^{test}_1(\\hat f(X)=0)$', color = 'lightgreen')\n",
    "plt.xlabel(r'$\\hat t$')\n",
    "plt.axvline(x=0.18, color='black', ls=':')\n",
    "plt.legend()#loc = 'upper left')\n",
    "plt.axvline(x=0.18, color='black', ls=':')\n",
    "# plt.savefig('plt3.pgf')"
   ]
  },
  {
   "cell_type": "markdown",
   "metadata": {},
   "source": [
    "### Class specific"
   ]
  },
  {
   "cell_type": "markdown",
   "metadata": {},
   "source": [
    "#### estimate density functions p0 and p1 using KernelDensity from sklearn.neighbors"
   ]
  },
  {
   "cell_type": "code",
   "execution_count": 200,
   "metadata": {},
   "outputs": [],
   "source": [
    "p0_est = dens(kernel='epanechnikov', bandwidth=0.75).fit(X_train0[:, np.newaxis])\n",
    "p1_est = dens(kernel='epanechnikov', bandwidth=0.75).fit(X_train1[:, np.newaxis])"
   ]
  },
  {
   "cell_type": "markdown",
   "metadata": {},
   "source": [
    "#### evaluate the density-quotient estimators at the sample points"
   ]
  },
  {
   "cell_type": "code",
   "execution_count": 303,
   "metadata": {},
   "outputs": [],
   "source": [
    "x = np.linspace(-6, 4, 1000)[:, np.newaxis]\n",
    "log_dens0 = p0_est.score_samples(x)\n",
    "log_dens1 = p1_est.score_samples(x)"
   ]
  },
  {
   "cell_type": "code",
   "execution_count": 304,
   "metadata": {},
   "outputs": [
    {
     "data": {
      "text/plain": [
       "Text(0.5, 0, '$x$')"
      ]
     },
     "execution_count": 304,
     "metadata": {},
     "output_type": "execute_result"
    },
    {
     "data": {
      "image/png": "[encoded data removed]",
      "text/plain": [
       "<Figure size 432x288 with 1 Axes>"
      ]
     },
     "metadata": {
      "needs_background": "light"
     },
     "output_type": "display_data"
    }
   ],
   "source": [
    "bins = np.linspace(-5, 4, 20)\n",
    "plt.hist(X_train1, bins=bins, fc=\"#AAAAFF\", density=True, label = 'Hist. $\\mathcal N(0,1)$ Trainingsdaten')\n",
    "plt.plot(x[:, 0],np.exp(log_dens1), label = r'$\\hat p_1$')\n",
    "plt.legend(loc = 'upper left')\n",
    "plt.xlabel('$x$')\n",
    "#plt.savefig('p1^.pgf')"
   ]
  },
  {
   "cell_type": "code",
   "execution_count": 305,
   "metadata": {},
   "outputs": [
    {
     "data": {
      "text/plain": [
       "Text(0.5, 0, '$x$')"
      ]
     },
     "execution_count": 305,
     "metadata": {},
     "output_type": "execute_result"
    },
    {
     "data": {
      "image/png": "[encoded data removed]",
      "text/plain": [
       "<Figure size 432x288 with 1 Axes>"
      ]
     },
     "metadata": {
      "needs_background": "light"
     },
     "output_type": "display_data"
    }
   ],
   "source": [
    "bins = np.linspace(-5, 4, 20)\n",
    "plt.hist(X_train0, bins=bins, fc=\"#AAAAFF\", density=True, label = 'Hist. $\\mathcal N(1,1)$ Trainingsdaten')\n",
    "plt.plot(x[:, 0],np.exp(log_dens0), label = r'$\\hat p_0$')\n",
    "plt.legend()\n",
    "plt.xlabel('$x$')\n",
    "#plt.savefig('p0^.pgf')"
   ]
  },
  {
   "cell_type": "code",
   "execution_count": 306,
   "metadata": {},
   "outputs": [
    {
     "name": "stderr",
     "output_type": "stream",
     "text": [
      "<ipython-input-306-152fcabec7c8>:4: RuntimeWarning: divide by zero encountered in true_divide\n",
      "  qX1_train = np.exp(p1_est.score_samples(X_train1[:, np.newaxis]))/np.exp(p0_est.score_samples(X_train1[:, np.newaxis]))\n"
     ]
    }
   ],
   "source": [
    "# p1/p0 (X_train0)\n",
    "qX0_train = np.exp(p1_est.score_samples(X_train0[:, np.newaxis]))/np.exp(p0_est.score_samples(X_train0[:, np.newaxis]))\n",
    "# p1/p0 (X_train1)\n",
    "qX1_train = np.exp(p1_est.score_samples(X_train1[:, np.newaxis]))/np.exp(p0_est.score_samples(X_train1[:, np.newaxis]))\n",
    "\n",
    "# p1/p0 (X_test0)\n",
    "qX0_test = np.exp(p1_est.score_samples(X_test0[:, np.newaxis]))/np.exp(p0_est.score_samples(X_test0[:, np.newaxis]))\n",
    "# p1/p0 (X_test1)\n",
    "qX1_test = np.exp(p1_est.score_samples(X_test1[:, np.newaxis]))/np.exp(p0_est.score_samples(X_test1[:, np.newaxis]))"
   ]
  },
  {
   "cell_type": "code",
   "execution_count": 307,
   "metadata": {},
   "outputs": [
    {
     "data": {
      "text/plain": [
       "Text(0.5, 0, '$x$')"
      ]
     },
     "execution_count": 307,
     "metadata": {},
     "output_type": "execute_result"
    },
    {
     "data": {
      "image/png": "[encoded data removed]",
      "text/plain": [
       "<Figure size 432x288 with 1 Axes>"
      ]
     },
     "metadata": {
      "needs_background": "light"
     },
     "output_type": "display_data"
    }
   ],
   "source": [
    "x = np.linspace(0, 4, 1000)[:, np.newaxis]\n",
    "q = np.exp(p1_est.score_samples(x))/np.exp(p0_est.score_samples(x))\n",
    "plt.plot(x,q, label = '$\\hat p_1/\\hat p_0$', color = 'green')\n",
    "plt.legend()\n",
    "plt.xlabel('$x$')\n",
    "#plt.savefig('p1p0^.pgf')"
   ]
  },
  {
   "cell_type": "code",
   "execution_count": 308,
   "metadata": {},
   "outputs": [],
   "source": [
    "alpha = np.linspace(0.01,0.3,1000)\n",
    "\n",
    "l = len(alpha)\n",
    "t0 = np.zeros(l)\n",
    "t1 = np.zeros(l)\n",
    "mrisk0 = np.zeros(l)\n",
    "arisk0 = np.zeros(l)\n",
    "mrisk1 = np.zeros(l)\n",
    "arisk1 = np.zeros(l)\n",
    "\n",
    "for i in range(l):\n",
    "    t0[i] = ClassSpecific(0,qX0_train,alpha[i])[0]\n",
    "    mrisk0[i] = np.sum(qX0_test > t0[i])/n0_test\n",
    "    t1[i] = ClassSpecific(1,qX1_train,alpha[i])[0]\n",
    "    mrisk1[i] = np.sum(qX1_test < t1[i])/n1_test\n",
    "    arisk0[i] = np.sum((qX0_test <= t0[i]) & (qX0_test >= t1[i]))/n0_test\n",
    "    arisk1[i] = np.sum((qX1_test <= t0[i]) & (qX1_test >= t1[i]))/n1_test"
   ]
  },
  {
   "cell_type": "code",
   "execution_count": 309,
   "metadata": {},
   "outputs": [
    {
     "data": {
      "text/plain": [
       "2.6089181744353"
      ]
     },
     "execution_count": 309,
     "metadata": {},
     "output_type": "execute_result"
    }
   ],
   "source": [
    "ClassSpecific(0,qX0_train,0.05)[0]"
   ]
  },
  {
   "cell_type": "code",
   "execution_count": 310,
   "metadata": {},
   "outputs": [
    {
     "data": {
      "text/plain": [
       "0.335163690823453"
      ]
     },
     "execution_count": 310,
     "metadata": {},
     "output_type": "execute_result"
    }
   ],
   "source": [
    "ClassSpecific(1,qX1_train,0.05)[0]"
   ]
  },
  {
   "cell_type": "code",
   "execution_count": 311,
   "metadata": {},
   "outputs": [
    {
     "data": {
      "text/plain": [
       "<matplotlib.legend.Legend at 0x27ddefa8370>"
      ]
     },
     "execution_count": 311,
     "metadata": {},
     "output_type": "execute_result"
    },
    {
     "data": {
      "image/png": "[encoded data removed]",
      "text/plain": [
       "<Figure size 432x288 with 1 Axes>"
      ]
     },
     "metadata": {
      "needs_background": "light"
     },
     "output_type": "display_data"
    }
   ],
   "source": [
    "plt.plot(alpha,t0, label = r'$\\hat t_0$ vs. $\\alpha_0$')\n",
    "plt.plot(alpha,t1, label = r'$\\hat t_1$ vs. $\\alpha_1$')\n",
    "plt.xlabel(r'$\\alpha_0,\\alpha_1$')\n",
    "plt.axvline(x=0.05, color='black', ls=':')\n",
    "plt.annotate('$\\hat t_0\\sim$'+ ' ' + str(t0_alpha0),xy=(0.05,t0_alpha0),xytext=(0.07,3),arrowprops=dict(arrowstyle='->'))\n",
    "plt.annotate('$\\hat t_1\\sim$' + ' ' + str(t1_alpha1),xy=(0.05,t1_alpha1),xytext=(0.07,0.82478),arrowprops=dict(arrowstyle='->'))\n",
    "plt.legend()\n",
    "#plt.savefig('plt4.pgf')"
   ]
  },
  {
   "cell_type": "code",
   "execution_count": 312,
   "metadata": {},
   "outputs": [
    {
     "data": {
      "image/png": "[encoded data removed]",
      "text/plain": [
       "<Figure size 432x288 with 2 Axes>"
      ]
     },
     "metadata": {
      "needs_background": "light"
     },
     "output_type": "display_data"
    }
   ],
   "source": [
    "fig = plt.figure()\n",
    "ax1 = fig.add_subplot(111)\n",
    "ax2 = ax1.twiny()\n",
    "\n",
    "ax1.plot(t0,mrisk0, label = r'$P^{test}_0(\\hat f(X)=1)$')\n",
    "ax1.plot(t0, alpha, label = r'$P^{train}_0(\\hat f(X)=1)$')\n",
    "ax1.plot(t0, arisk0, label = r'$P^{test}_0(\\hat f(X)=E)$')\n",
    "ax1.axvline(x=t0_alpha0, color='black', ls=':')\n",
    "\n",
    "new_tick_locations = np.array([1.5,2.61,3,4])\n",
    "idx = []\n",
    "\n",
    "for y in new_tick_locations:\n",
    "    # Prüfen, ob es einen Eintrag in X gibt, der ungefähr gleich dem aktuellen y-Wert ist\n",
    "    mask = np.isclose(t0, y, rtol=0.01)\n",
    "    if np.any(mask):\n",
    "        # Wenn ein passender Eintrag gefunden wurde, füge den Index zur Ergebnisliste hinzu\n",
    "        idx.append(np.where(mask)[0][0])\n",
    "        \n",
    "new = np.round(t1[idx],2)\n",
    "\n",
    "plt.axvline(x=0.36, color='black', ls=':')\n",
    "ax1.set_xlabel(r'$\\hat t_0$')\n",
    "ax2.set_xlabel(r'$\\hat t_1$')\n",
    "ax1.set_xticks(new_tick_locations)\n",
    "ax1.set_xticklabels(new_tick_locations);\n",
    "ax1.legend()\n",
    "ax2.set_xlim(ax1.get_xlim())\n",
    "ax2.set_xticks(new_tick_locations)\n",
    "ax2.set_xticklabels(new);\n",
    "# fig.savefig('plt5a.pgf')"
   ]
  },
  {
   "cell_type": "code",
   "execution_count": 277,
   "metadata": {},
   "outputs": [
    {
     "data": {
      "text/plain": [
       "0.06417112299465241"
      ]
     },
     "execution_count": 277,
     "metadata": {},
     "output_type": "execute_result"
    }
   ],
   "source": [
    "np.sum(qX0_test > 2.6089181744353)/len(qX0_test)"
   ]
  },
  {
   "cell_type": "code",
   "execution_count": 278,
   "metadata": {},
   "outputs": [
    {
     "data": {
      "text/plain": [
       "0.6470588235294118"
      ]
     },
     "execution_count": 278,
     "metadata": {},
     "output_type": "execute_result"
    }
   ],
   "source": [
    "np.sum((qX0_test >= 0.335163690823453) & (qX0_test <= 2.6089181744353))/len(qX0_test)"
   ]
  },
  {
   "cell_type": "code",
   "execution_count": 279,
   "metadata": {},
   "outputs": [
    {
     "data": {
      "text/plain": [
       "0.049029622063329927"
      ]
     },
     "execution_count": 279,
     "metadata": {},
     "output_type": "execute_result"
    }
   ],
   "source": [
    "np.sum(qX1_test < 0.335163690823453)/len(qX1_test)"
   ]
  },
  {
   "cell_type": "code",
   "execution_count": 280,
   "metadata": {},
   "outputs": [
    {
     "data": {
      "text/plain": [
       "0.6894790602655771"
      ]
     },
     "execution_count": 280,
     "metadata": {},
     "output_type": "execute_result"
    }
   ],
   "source": [
    "np.sum((qX1_test >= 0.335163690823453) & (qX1_test <= 2.6089181744353))/len(qX1_test)"
   ]
  },
  {
   "cell_type": "code",
   "execution_count": 264,
   "metadata": {},
   "outputs": [
    {
     "data": {
      "text/plain": [
       "0.6857808857808858"
      ]
     },
     "execution_count": 264,
     "metadata": {},
     "output_type": "execute_result"
    }
   ],
   "source": [
    "(np.sum((qX0_test >= 0.335163690823453) & (qX0_test <= 2.6089181744353)) + np.sum((qX1_test >= 0.335163690823453) & (qX1_test <= 2.6089181744353)))/(len(qX0_test)+len(qX1_test))"
   ]
  },
  {
   "cell_type": "code",
   "execution_count": 313,
   "metadata": {},
   "outputs": [
    {
     "data": {
      "image/png": "[encoded data removed]",
      "text/plain": [
       "<Figure size 432x288 with 2 Axes>"
      ]
     },
     "metadata": {
      "needs_background": "light"
     },
     "output_type": "display_data"
    }
   ],
   "source": [
    "fig = plt.figure()\n",
    "ax1 = fig.add_subplot(111)\n",
    "ax2 = ax1.twiny()\n",
    "\n",
    "ax1.plot(t1,mrisk1 ,label = r'$P^{test}_1(\\hat f(X)=0)$')\n",
    "ax1.plot(t1, alpha, label = r'$P^{train}_1(\\hat f(X)=0)$')\n",
    "ax1.plot(t1, arisk1, label = r'$P^{test}_1(\\hat f(X)=E)$')\n",
    "\n",
    "new_tick_locations = np.array([0.34,0.5,0.8,1])\n",
    "idx = []\n",
    "for y in new_tick_locations:\n",
    "    # Prüfen, ob es einen Eintrag in X gibt, der ungefähr gleich dem aktuellen y-Wert ist\n",
    "    mask = np.isclose(t1, y, rtol=0.01)\n",
    "    if np.any(mask):\n",
    "        # Wenn ein passender Eintrag gefunden wurde, füge den Index zur Ergebnisliste hinzu\n",
    "        idx.append(np.where(mask)[0][0])\n",
    "new = np.round(t0[idx],1)\n",
    "plt.axvline(x=t1_alpha1, color='black', ls=':')\n",
    "ax1.set_xlabel(r'$\\hat t_1$')\n",
    "ax2.set_xlabel(r'$\\hat t_0$')\n",
    "ax1.set_xticks(new_tick_locations)\n",
    "ax1.set_xticklabels(new_tick_locations);\n",
    "ax1.legend()\n",
    "ax2.set_xlim(ax1.get_xlim())\n",
    "ax2.set_xticks(new_tick_locations)\n",
    "ax2.set_xticklabels(new);\n",
    "# fig.savefig('plt6a.pgf')"
   ]
  },
  {
   "cell_type": "markdown",
   "metadata": {},
   "source": [
    "## Overall Coverage for image classification (fashion_mnist dataset)"
   ]
  },
  {
   "cell_type": "markdown",
   "metadata": {},
   "source": [
    "### preprocessing"
   ]
  },
  {
   "cell_type": "markdown",
   "metadata": {},
   "source": [
    "#### load data"
   ]
  },
  {
   "cell_type": "code",
   "execution_count": 1069,
   "metadata": {},
   "outputs": [
    {
     "name": "stdout",
     "output_type": "stream",
     "text": [
      "(60000, 28, 28)\n",
      "(60000,)\n",
      "(10000, 28, 28)\n",
      "(10000,)\n"
     ]
    }
   ],
   "source": [
    "(X_train, Y_train), (X_test, Y_test) = fashion_mnist.load_data()\n",
    "print(X_train.shape)\n",
    "print(Y_train.shape)\n",
    "print(X_test.shape)\n",
    "print(Y_test.shape)"
   ]
  },
  {
   "cell_type": "markdown",
   "metadata": {},
   "source": [
    "#### have a look at the data"
   ]
  },
  {
   "cell_type": "code",
   "execution_count": 1070,
   "metadata": {},
   "outputs": [
    {
     "data": {
      "image/png": "[encoded data removed]",
      "text/plain": [
       "<Figure size 540x288 with 10 Axes>"
      ]
     },
     "metadata": {
      "needs_background": "light"
     },
     "output_type": "display_data"
    }
   ],
   "source": [
    "class_names = ['T-shirt/Top', 'Hose', 'Pullover', 'Kleid', 'Jacke',\n",
    "               'Sandale', 'Shirt', 'Sneaker', 'Tasche', 'Stiefelette']\n",
    "\n",
    "fig, axs = plt.subplots(2, 5, figsize=(1.5*5,2*2))\n",
    "for i in range(len(class_names)):\n",
    "    ax = axs[i//5, i%5]\n",
    "    ax.imshow(X_train[Y_train == i][0])\n",
    "    ax.set_title(class_names[i])\n",
    "dpi = 300\n",
    "fig.subplots_adjust(hspace=0.3, wspace=0.3)\n",
    "#fig.savefig('fashion.pdf', format='pdf', bbox_inches='tight')"
   ]
  },
  {
   "cell_type": "code",
   "execution_count": 1071,
   "metadata": {},
   "outputs": [],
   "source": [
    "ind_train = np.where((Y_train == 1) | (Y_train ==3))[0][:1000]\n",
    "ind_test = np.where((Y_test == 1) | (Y_test == 3))[0][:400]"
   ]
  },
  {
   "cell_type": "code",
   "execution_count": 1072,
   "metadata": {},
   "outputs": [],
   "source": [
    "# neu\n",
    "Y_train = (Y_train !=1).astype(int)\n",
    "Y_test = (Y_test != 1).astype(int)"
   ]
  },
  {
   "cell_type": "code",
   "execution_count": 1073,
   "metadata": {},
   "outputs": [],
   "source": [
    "Y_train = Y_train[ind_train]\n",
    "X_train = X_train[ind_train]\n",
    "\n",
    "Y_test = Y_test[ind_test]\n",
    "X_test = X_test[ind_test]"
   ]
  },
  {
   "cell_type": "code",
   "execution_count": 1074,
   "metadata": {},
   "outputs": [],
   "source": [
    "ind_train0 = np.where((Y_train == 0))[0]\n",
    "ind_train1 = np.where((Y_train == 1))[0]\n",
    "ind_test0 = np.where((Y_test == 0))[0]\n",
    "ind_test1 = np.where((Y_test == 1))[0]"
   ]
  },
  {
   "cell_type": "code",
   "execution_count": 1075,
   "metadata": {},
   "outputs": [],
   "source": [
    "X_train_org = X_train\n",
    "X_test_org = X_test"
   ]
  },
  {
   "cell_type": "markdown",
   "metadata": {},
   "source": [
    "#### reshape data"
   ]
  },
  {
   "cell_type": "code",
   "execution_count": 1076,
   "metadata": {},
   "outputs": [],
   "source": [
    "X_train = X_train.reshape(X_train.shape[0], -1)\n",
    "X_test = X_test.reshape(X_test.shape[0], -1)"
   ]
  },
  {
   "cell_type": "markdown",
   "metadata": {},
   "source": [
    "#### normalize data"
   ]
  },
  {
   "cell_type": "code",
   "execution_count": 1077,
   "metadata": {},
   "outputs": [],
   "source": [
    "X_train = no().fit_transform(X_train)\n",
    "X_test = no().fit_transform(X_test)"
   ]
  },
  {
   "cell_type": "markdown",
   "metadata": {},
   "source": [
    "#### use pca to reduce dimension (784 predictors (pixels) take too much computational time for locpol function)"
   ]
  },
  {
   "cell_type": "code",
   "execution_count": 1078,
   "metadata": {},
   "outputs": [
    {
     "data": {
      "text/plain": [
       "10"
      ]
     },
     "execution_count": 1078,
     "metadata": {},
     "output_type": "execute_result"
    }
   ],
   "source": [
    "pca = PCA(0.6)\n",
    "pca.fit(X_train,Y_train)\n",
    "PCA(copy=True, iterated_power='auto', n_components=0.6, random_state=None,  svd_solver='auto', tol=0.0, whiten=False)\n",
    "pca.n_components_"
   ]
  },
  {
   "cell_type": "code",
   "execution_count": 1079,
   "metadata": {},
   "outputs": [],
   "source": [
    "X_train=pca.transform(X_train)\n",
    "X_test=pca.transform(X_test)"
   ]
  },
  {
   "cell_type": "code",
   "execution_count": 1080,
   "metadata": {},
   "outputs": [
    {
     "name": "stdout",
     "output_type": "stream",
     "text": [
      "(1000, 10)\n",
      "(1000,)\n",
      "(400, 10)\n",
      "(400,)\n"
     ]
    }
   ],
   "source": [
    "print(X_train.shape)\n",
    "print(Y_train.shape)\n",
    "print(X_test.shape)\n",
    "print(Y_test.shape)"
   ]
  },
  {
   "cell_type": "markdown",
   "metadata": {},
   "source": [
    "#### use locpol package to fit local polynomial regression model to train data, evaluate at test & training data"
   ]
  },
  {
   "cell_type": "code",
   "execution_count": 1081,
   "metadata": {},
   "outputs": [],
   "source": [
    "etaX_train = localreg(X_train, Y_train,degree=1)"
   ]
  },
  {
   "cell_type": "code",
   "execution_count": 1082,
   "metadata": {},
   "outputs": [],
   "source": [
    "etaX_test = localreg(X_train, Y_train,X_test,degree=1)"
   ]
  },
  {
   "cell_type": "code",
   "execution_count": 1083,
   "metadata": {},
   "outputs": [],
   "source": [
    "# pd.DataFrame({'etaX':etaX, 'Y':Y_test})"
   ]
  },
  {
   "cell_type": "code",
   "execution_count": 1084,
   "metadata": {},
   "outputs": [],
   "source": [
    "t =  Overall(Y_train,etaX_train,0.03)[0]"
   ]
  },
  {
   "cell_type": "code",
   "execution_count": 1085,
   "metadata": {},
   "outputs": [
    {
     "data": {
      "text/plain": [
       "(0.487711027869417, 0.03, 0.004)"
      ]
     },
     "execution_count": 1085,
     "metadata": {},
     "output_type": "execute_result"
    }
   ],
   "source": [
    "Overall(Y_train,etaX_train,0.03)"
   ]
  },
  {
   "cell_type": "code",
   "execution_count": 1086,
   "metadata": {},
   "outputs": [],
   "source": [
    "ind_abs = np.where((etaX_test <= (1-t)) & (etaX_test >= t))[0]\n",
    "ind0_mis1 = np.where((etaX_test > (1-t)) & (Y_test == 0))[0]\n",
    "ind1_mis0 = np.where((etaX_test < t) & (Y_test == 1))[0]"
   ]
  },
  {
   "cell_type": "code",
   "execution_count": 1087,
   "metadata": {},
   "outputs": [
    {
     "name": "stdout",
     "output_type": "stream",
     "text": [
      "5\n"
     ]
    }
   ],
   "source": [
    "l1 = len(ind_abs)\n",
    "print(l1)"
   ]
  },
  {
   "cell_type": "code",
   "execution_count": 1088,
   "metadata": {},
   "outputs": [
    {
     "name": "stdout",
     "output_type": "stream",
     "text": [
      "11\n"
     ]
    }
   ],
   "source": [
    "l2= len(ind0_mis1)\n",
    "print(l2)"
   ]
  },
  {
   "cell_type": "code",
   "execution_count": 1089,
   "metadata": {},
   "outputs": [
    {
     "name": "stdout",
     "output_type": "stream",
     "text": [
      "4\n"
     ]
    }
   ],
   "source": [
    "l3 = len(ind1_mis0)\n",
    "print(l3)"
   ]
  },
  {
   "cell_type": "code",
   "execution_count": 1090,
   "metadata": {},
   "outputs": [
    {
     "data": {
      "text/plain": [
       "0.0125"
      ]
     },
     "execution_count": 1090,
     "metadata": {},
     "output_type": "execute_result"
    }
   ],
   "source": [
    "len(ind_abs)/400"
   ]
  },
  {
   "cell_type": "code",
   "execution_count": 1091,
   "metadata": {},
   "outputs": [
    {
     "data": {
      "text/plain": [
       "0.0375"
      ]
     },
     "execution_count": 1091,
     "metadata": {},
     "output_type": "execute_result"
    }
   ],
   "source": [
    "(len(ind0_mis1)+len(ind1_mis0))/400"
   ]
  },
  {
   "cell_type": "code",
   "execution_count": 1092,
   "metadata": {},
   "outputs": [
    {
     "data": {
      "text/plain": [
       "0.03"
      ]
     },
     "execution_count": 1092,
     "metadata": {},
     "output_type": "execute_result"
    }
   ],
   "source": [
    "(np.sum((etaX_train > (1-t)) & (Y_train == 0)) + np.sum((etaX_train < t) & (Y_train == 1)))/1000"
   ]
  },
  {
   "cell_type": "code",
   "execution_count": 1093,
   "metadata": {},
   "outputs": [
    {
     "data": {
      "text/plain": [
       "0.004"
      ]
     },
     "execution_count": 1093,
     "metadata": {},
     "output_type": "execute_result"
    }
   ],
   "source": [
    "(np.sum((etaX_train <= (1-t)) & (etaX_train >= t)))/1000"
   ]
  },
  {
   "cell_type": "code",
   "execution_count": 1094,
   "metadata": {},
   "outputs": [
    {
     "data": {
      "image/png": "[encoded data removed]",
      "text/plain": [
       "<Figure size 540x144 with 5 Axes>"
      ]
     },
     "metadata": {
      "needs_background": "light"
     },
     "output_type": "display_data"
    }
   ],
   "source": [
    "fig, axs = plt.subplots(1, l1, figsize=(1.5*l1,2))\n",
    "for i, ind in enumerate(ind_abs):\n",
    "    ax = axs[i]\n",
    "    ax.imshow(X_test_org[ind])\n",
    "    ax.set_title('$\\hat\\eta(x) = $ ' + str(round(etaX_test[ind],3)))\n",
    "    #ax.set_xticks([])\n",
    "    #ax.set_yticks([])\n",
    "fig.subplots_adjust(wspace=0.3)\n",
    "#fig.savefig('fashion_abs.pdf', format='pdf', bbox_inches='tight')"
   ]
  },
  {
   "cell_type": "markdown",
   "metadata": {},
   "source": [
    "# class Specific Coverage"
   ]
  },
  {
   "cell_type": "markdown",
   "metadata": {},
   "source": [
    "## Diabetes"
   ]
  },
  {
   "cell_type": "code",
   "execution_count": 298,
   "metadata": {},
   "outputs": [],
   "source": [
    "diab=pd.read_csv(\"C:/Users/johan/Desktop/Studium/MA/Code/Python/diabetes.csv\")"
   ]
  },
  {
   "cell_type": "code",
   "execution_count": 299,
   "metadata": {},
   "outputs": [
    {
     "data": {
      "text/html": [
       "<div>\n",
       "<style scoped>\n",
       "    .dataframe tbody tr th:only-of-type {\n",
       "        vertical-align: middle;\n",
       "    }\n",
       "\n",
       "    .dataframe tbody tr th {\n",
       "        vertical-align: top;\n",
       "    }\n",
       "\n",
       "    .dataframe thead th {\n",
       "        text-align: right;\n",
       "    }\n",
       "</style>\n",
       "<table border=\"1\" class=\"dataframe\">\n",
       "  <thead>\n",
       "    <tr style=\"text-align: right;\">\n",
       "      <th></th>\n",
       "      <th>Diabetes_binary</th>\n",
       "      <th>HighBP</th>\n",
       "      <th>HighChol</th>\n",
       "      <th>CholCheck</th>\n",
       "      <th>BMI</th>\n",
       "      <th>Smoker</th>\n",
       "      <th>Stroke</th>\n",
       "      <th>HeartDiseaseorAttack</th>\n",
       "      <th>PhysActivity</th>\n",
       "      <th>Fruits</th>\n",
       "      <th>...</th>\n",
       "      <th>AnyHealthcare</th>\n",
       "      <th>NoDocbcCost</th>\n",
       "      <th>GenHlth</th>\n",
       "      <th>MentHlth</th>\n",
       "      <th>PhysHlth</th>\n",
       "      <th>DiffWalk</th>\n",
       "      <th>Sex</th>\n",
       "      <th>Age</th>\n",
       "      <th>Education</th>\n",
       "      <th>Income</th>\n",
       "    </tr>\n",
       "  </thead>\n",
       "  <tbody>\n",
       "    <tr>\n",
       "      <th>0</th>\n",
       "      <td>0.0</td>\n",
       "      <td>1.0</td>\n",
       "      <td>1.0</td>\n",
       "      <td>1.0</td>\n",
       "      <td>40.0</td>\n",
       "      <td>1.0</td>\n",
       "      <td>0.0</td>\n",
       "      <td>0.0</td>\n",
       "      <td>0.0</td>\n",
       "      <td>0.0</td>\n",
       "      <td>...</td>\n",
       "      <td>1.0</td>\n",
       "      <td>0.0</td>\n",
       "      <td>5.0</td>\n",
       "      <td>18.0</td>\n",
       "      <td>15.0</td>\n",
       "      <td>1.0</td>\n",
       "      <td>0.0</td>\n",
       "      <td>9.0</td>\n",
       "      <td>4.0</td>\n",
       "      <td>3.0</td>\n",
       "    </tr>\n",
       "    <tr>\n",
       "      <th>1</th>\n",
       "      <td>0.0</td>\n",
       "      <td>0.0</td>\n",
       "      <td>0.0</td>\n",
       "      <td>0.0</td>\n",
       "      <td>25.0</td>\n",
       "      <td>1.0</td>\n",
       "      <td>0.0</td>\n",
       "      <td>0.0</td>\n",
       "      <td>1.0</td>\n",
       "      <td>0.0</td>\n",
       "      <td>...</td>\n",
       "      <td>0.0</td>\n",
       "      <td>1.0</td>\n",
       "      <td>3.0</td>\n",
       "      <td>0.0</td>\n",
       "      <td>0.0</td>\n",
       "      <td>0.0</td>\n",
       "      <td>0.0</td>\n",
       "      <td>7.0</td>\n",
       "      <td>6.0</td>\n",
       "      <td>1.0</td>\n",
       "    </tr>\n",
       "    <tr>\n",
       "      <th>2</th>\n",
       "      <td>0.0</td>\n",
       "      <td>1.0</td>\n",
       "      <td>1.0</td>\n",
       "      <td>1.0</td>\n",
       "      <td>28.0</td>\n",
       "      <td>0.0</td>\n",
       "      <td>0.0</td>\n",
       "      <td>0.0</td>\n",
       "      <td>0.0</td>\n",
       "      <td>1.0</td>\n",
       "      <td>...</td>\n",
       "      <td>1.0</td>\n",
       "      <td>1.0</td>\n",
       "      <td>5.0</td>\n",
       "      <td>30.0</td>\n",
       "      <td>30.0</td>\n",
       "      <td>1.0</td>\n",
       "      <td>0.0</td>\n",
       "      <td>9.0</td>\n",
       "      <td>4.0</td>\n",
       "      <td>8.0</td>\n",
       "    </tr>\n",
       "    <tr>\n",
       "      <th>3</th>\n",
       "      <td>0.0</td>\n",
       "      <td>1.0</td>\n",
       "      <td>0.0</td>\n",
       "      <td>1.0</td>\n",
       "      <td>27.0</td>\n",
       "      <td>0.0</td>\n",
       "      <td>0.0</td>\n",
       "      <td>0.0</td>\n",
       "      <td>1.0</td>\n",
       "      <td>1.0</td>\n",
       "      <td>...</td>\n",
       "      <td>1.0</td>\n",
       "      <td>0.0</td>\n",
       "      <td>2.0</td>\n",
       "      <td>0.0</td>\n",
       "      <td>0.0</td>\n",
       "      <td>0.0</td>\n",
       "      <td>0.0</td>\n",
       "      <td>11.0</td>\n",
       "      <td>3.0</td>\n",
       "      <td>6.0</td>\n",
       "    </tr>\n",
       "    <tr>\n",
       "      <th>4</th>\n",
       "      <td>0.0</td>\n",
       "      <td>1.0</td>\n",
       "      <td>1.0</td>\n",
       "      <td>1.0</td>\n",
       "      <td>24.0</td>\n",
       "      <td>0.0</td>\n",
       "      <td>0.0</td>\n",
       "      <td>0.0</td>\n",
       "      <td>1.0</td>\n",
       "      <td>1.0</td>\n",
       "      <td>...</td>\n",
       "      <td>1.0</td>\n",
       "      <td>0.0</td>\n",
       "      <td>2.0</td>\n",
       "      <td>3.0</td>\n",
       "      <td>0.0</td>\n",
       "      <td>0.0</td>\n",
       "      <td>0.0</td>\n",
       "      <td>11.0</td>\n",
       "      <td>5.0</td>\n",
       "      <td>4.0</td>\n",
       "    </tr>\n",
       "  </tbody>\n",
       "</table>\n",
       "<p>5 rows × 22 columns</p>\n",
       "</div>"
      ],
      "text/plain": [
       "   Diabetes_binary  HighBP  HighChol  CholCheck   BMI  Smoker  Stroke  \\\n",
       "0              0.0     1.0       1.0        1.0  40.0     1.0     0.0   \n",
       "1              0.0     0.0       0.0        0.0  25.0     1.0     0.0   \n",
       "2              0.0     1.0       1.0        1.0  28.0     0.0     0.0   \n",
       "3              0.0     1.0       0.0        1.0  27.0     0.0     0.0   \n",
       "4              0.0     1.0       1.0        1.0  24.0     0.0     0.0   \n",
       "\n",
       "   HeartDiseaseorAttack  PhysActivity  Fruits  ...  AnyHealthcare  \\\n",
       "0                   0.0           0.0     0.0  ...            1.0   \n",
       "1                   0.0           1.0     0.0  ...            0.0   \n",
       "2                   0.0           0.0     1.0  ...            1.0   \n",
       "3                   0.0           1.0     1.0  ...            1.0   \n",
       "4                   0.0           1.0     1.0  ...            1.0   \n",
       "\n",
       "   NoDocbcCost  GenHlth  MentHlth  PhysHlth  DiffWalk  Sex   Age  Education  \\\n",
       "0          0.0      5.0      18.0      15.0       1.0  0.0   9.0        4.0   \n",
       "1          1.0      3.0       0.0       0.0       0.0  0.0   7.0        6.0   \n",
       "2          1.0      5.0      30.0      30.0       1.0  0.0   9.0        4.0   \n",
       "3          0.0      2.0       0.0       0.0       0.0  0.0  11.0        3.0   \n",
       "4          0.0      2.0       3.0       0.0       0.0  0.0  11.0        5.0   \n",
       "\n",
       "   Income  \n",
       "0     3.0  \n",
       "1     1.0  \n",
       "2     8.0  \n",
       "3     6.0  \n",
       "4     4.0  \n",
       "\n",
       "[5 rows x 22 columns]"
      ]
     },
     "execution_count": 299,
     "metadata": {},
     "output_type": "execute_result"
    }
   ],
   "source": [
    "diab.head()"
   ]
  },
  {
   "cell_type": "code",
   "execution_count": 300,
   "metadata": {},
   "outputs": [],
   "source": [
    "diab = diab[:20000]"
   ]
  },
  {
   "cell_type": "code",
   "execution_count": 321,
   "metadata": {},
   "outputs": [
    {
     "data": {
      "image/png": "[encoded data removed]",
      "text/plain": [
       "<Figure size 432x288 with 1 Axes>"
      ]
     },
     "metadata": {
      "needs_background": "light"
     },
     "output_type": "display_data"
    }
   ],
   "source": [
    "diab[\"Diabetes_binary\"].value_counts(normalize=True).plot(kind='bar', label = 'Verteilung Klassen');\n",
    "plt.legend()\n",
    "plt.savefig('labelVert.pgf')"
   ]
  },
  {
   "cell_type": "code",
   "execution_count": 322,
   "metadata": {},
   "outputs": [],
   "source": [
    "Y = diab[[\"Diabetes_binary\"][0]].to_numpy()\n",
    "X = diab.drop(['Diabetes_binary'], axis = 1).to_numpy()"
   ]
  },
  {
   "cell_type": "code",
   "execution_count": 338,
   "metadata": {},
   "outputs": [
    {
     "data": {
      "text/plain": [
       "(20000, 21)"
      ]
     },
     "execution_count": 338,
     "metadata": {},
     "output_type": "execute_result"
    }
   ],
   "source": [
    "X.shape"
   ]
  },
  {
   "cell_type": "code",
   "execution_count": 339,
   "metadata": {},
   "outputs": [
    {
     "data": {
      "text/plain": [
       "(20000,)"
      ]
     },
     "execution_count": 339,
     "metadata": {},
     "output_type": "execute_result"
    }
   ],
   "source": [
    "Y.shape"
   ]
  },
  {
   "cell_type": "code",
   "execution_count": 341,
   "metadata": {},
   "outputs": [],
   "source": [
    "X_train, X_test, Y_train, Y_test = train_test_split(X,Y, test_size=0.2, shuffle=True,stratify=Y,random_state=42)\n",
    "# X_train, X_val, Y_train, Y_val = train_test_split(X_train,Y_train, test_size=0.25,random_state=42)"
   ]
  },
  {
   "cell_type": "code",
   "execution_count": 343,
   "metadata": {},
   "outputs": [],
   "source": [
    "X_train0 = X_train[np.where(Y_train == 0)[0]]\n",
    "X_train1 = X_train[np.where(Y_train == 1)[0]]\n",
    "X_test0 = X_test[np.where(Y_test == 0)[0]]\n",
    "X_test1 = X_test[np.where(Y_test == 1)[0]]\n",
    "# X_val0 = X_val[np.where(Y_val == 0)[0]]\n",
    "# X_val1 = X_val[np.where(Y_val == 1)[0]]"
   ]
  },
  {
   "cell_type": "code",
   "execution_count": 345,
   "metadata": {},
   "outputs": [
    {
     "name": "stdout",
     "output_type": "stream",
     "text": [
      "(13579, 21)\n",
      "(2421, 21)\n",
      "(3395, 21)\n",
      "(605, 21)\n"
     ]
    }
   ],
   "source": [
    "print(X_train0.shape)\n",
    "print(X_train1.shape)\n",
    "print(X_test0.shape)\n",
    "print(X_test1.shape)\n",
    "# print(X_val0.shape)\n",
    "# print(X_val1.shape)"
   ]
  },
  {
   "cell_type": "code",
   "execution_count": 347,
   "metadata": {},
   "outputs": [
    {
     "data": {
      "text/plain": [
       "3"
      ]
     },
     "execution_count": 347,
     "metadata": {},
     "output_type": "execute_result"
    }
   ],
   "source": [
    "pca0 = PCA(0.9)\n",
    "pca0.fit(X_train0)\n",
    "PCA(copy=True, iterated_power='auto', n_components=0.9, random_state=None,  svd_solver='auto', tol=0.001, whiten=False)\n",
    "pca0.n_components_"
   ]
  },
  {
   "cell_type": "code",
   "execution_count": 348,
   "metadata": {},
   "outputs": [
    {
     "data": {
      "text/plain": [
       "3"
      ]
     },
     "execution_count": 348,
     "metadata": {},
     "output_type": "execute_result"
    }
   ],
   "source": [
    "pca1 = PCA(0.9)\n",
    "pca1.fit(X_train1)\n",
    "PCA(copy=True, iterated_power='auto', n_components=0.9, random_state=None,  svd_solver='auto', tol=0.001, whiten=False)\n",
    "pca1.n_components_"
   ]
  },
  {
   "cell_type": "code",
   "execution_count": 349,
   "metadata": {},
   "outputs": [],
   "source": [
    "X_train0 = pca0.transform(X_train0)\n",
    "X_train1 = pca1.transform(X_train1)\n",
    "X_test0 = pca0.transform(X_test0)\n",
    "X_test1 = pca1.transform(X_test1)\n",
    "# X_val0 = pca0.transform(X_val0)\n",
    "# X_val1 = pca1.transform(X_val1)"
   ]
  },
  {
   "cell_type": "code",
   "execution_count": 352,
   "metadata": {},
   "outputs": [
    {
     "name": "stdout",
     "output_type": "stream",
     "text": [
      "P0(f(X) = 1) = 0.112\n",
      "P1(f(X) = 0) = 0.058\n",
      "P0(f(X) = 0) = 0.744\n",
      "P1(f(X) = 1) = 0.845\n",
      "P0(f(X) = E) = 0.143\n",
      "P1(f(X) = E) = 0.098\n",
      "t0 = 0.66998\n",
      "t1 = 0.34229\n"
     ]
    }
   ],
   "source": [
    "p0_est = kde(X_train0.T)\n",
    "p1_est = kde(X_train1.T)\n",
    "# p0_est.set_bandwidth(bw_method=1)\n",
    "# p1_est.set_bandwidth(bw_method=1)\n",
    "qX0 = p1_est(X_train0.T)/p0_est(X_train0.T)\n",
    "qX1 = p1_est(X_train1.T)/p0_est(X_train1.T)\n",
    "qX0_test = p1_est(X_test0.T)/p0_est(X_test0.T)\n",
    "qX1_test = p1_est(X_test1.T)/p0_est(X_test1.T)\n",
    "t0 = ClassSpecific(0,qX0,0.1)[0]\n",
    "t1 = ClassSpecific(1,qX1,0.05)[0]\n",
    "print('P0(f(X) = 1)' + ' = ' + str(round(np.sum(qX0_test > t0)/len(qX0_test),3)))\n",
    "print('P1(f(X) = 0)' + ' = ' + str(round(np.sum(qX1_test < t1)/len(qX1_test),3)))\n",
    "print('P0(f(X) = 0)' + ' = ' + str(round(np.sum(qX0_test < t1)/len(qX0_test),3)))\n",
    "print('P1(f(X) = 1)' + ' = ' + str(round(np.sum(qX1_test > t0)/len(qX1_test),3)))\n",
    "print('P0(f(X) = E)' + ' = ' + str(round(np.sum((qX0_test <= t0) & (qX0_test >= t1))/len(qX0_test),3)))\n",
    "print('P1(f(X) = E)' + ' = ' + str(round(np.sum((qX1_test <= t0) & (qX1_test >= t1))/len(qX1_test),3)))\n",
    "print('t0 = ' + str(round(t0,5)))\n",
    "print('t1 = ' + str(round(t1,5)))"
   ]
  },
  {
   "cell_type": "code",
   "execution_count": null,
   "metadata": {},
   "outputs": [],
   "source": []
  }
 ],
 "metadata": {
  "kernelspec": {
   "display_name": "Python 3",
   "language": "python",
   "name": "python3"
  },
  "language_info": {
   "codemirror_mode": {
    "name": "ipython",
    "version": 3
   },
   "file_extension": ".py",
   "mimetype": "text/x-python",
   "name": "python",
   "nbconvert_exporter": "python",
   "pygments_lexer": "ipython3",
   "version": "3.8.5"
  }
 },
 "nbformat": 4,
 "nbformat_minor": 4
}
